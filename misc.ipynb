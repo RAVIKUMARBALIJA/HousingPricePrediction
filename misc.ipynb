{
 "cells": [
  {
   "cell_type": "code",
   "execution_count": 5,
   "source": [
    "import numpy as np\n",
    "import pandas as pd\n",
    "from preprocessor import load_encoder\n",
    "import pickle\n",
    "import json"
   ],
   "outputs": [],
   "metadata": {}
  },
  {
   "cell_type": "code",
   "execution_count": 32,
   "source": [
    "import pyspark as ps"
   ],
   "outputs": [],
   "metadata": {}
  },
  {
   "cell_type": "code",
   "execution_count": 2,
   "source": [
    "from utils import loadcolumns"
   ],
   "outputs": [],
   "metadata": {}
  },
  {
   "cell_type": "code",
   "execution_count": 3,
   "source": [
    "def loadcolumns(df=None):\n",
    "    lst_columns=pickle.load(open('data/columns','rb'))\n",
    "    return lst_columns"
   ],
   "outputs": [],
   "metadata": {}
  },
  {
   "cell_type": "code",
   "execution_count": 4,
   "source": [
    "def preprocess_data(X):\n",
    "    encode_pipeline=load_encoder()\n",
    "    X=encode_pipeline.transform(X)\n",
    "    return X"
   ],
   "outputs": [],
   "metadata": {}
  },
  {
   "cell_type": "code",
   "execution_count": 5,
   "source": [
    "line='60,RL,65.0,8450,Pave,,Reg,Lvl,AllPub,Inside,Gtl,CollgCr,Norm,Norm,1Fam,2Story,7,5,2003,2003,Gable,CompShg,VinylSd,VinylSd,BrkFace,196.0,Gd,TA,PConc,Gd,TA,No,GLQ,706,Unf,0,150,856,GasA,Ex,Y,SBrkr,856,854,0,1710,1,0,2,1,3,1,Gd,8,Typ,0,,Attchd,2003.0,RFn,2,548,TA,TA,Y,0,61,0,0,0,0,,,,0,2,2008,WD,Normal'"
   ],
   "outputs": [],
   "metadata": {}
  },
  {
   "cell_type": "code",
   "execution_count": 7,
   "source": [
    "def loaddtypes(df=None):\n",
    "    lst_columns=pickle.load(open('data/dtypemapper','rb'))\n",
    "    return lst_columns"
   ],
   "outputs": [],
   "metadata": {}
  },
  {
   "cell_type": "code",
   "execution_count": 8,
   "source": [
    "loaddtypes()"
   ],
   "outputs": [
    {
     "output_type": "execute_result",
     "data": {
      "text/plain": [
       "{'MSSubClass': int,\n",
       " 'MSZoning': str,\n",
       " 'LotFrontage': float,\n",
       " 'LotArea': int,\n",
       " 'Street': str,\n",
       " 'LotShape': str,\n",
       " 'LandContour': str,\n",
       " 'Utilities': str,\n",
       " 'LotConfig': str,\n",
       " 'LandSlope': str,\n",
       " 'Neighborhood': str,\n",
       " 'Condition1': str,\n",
       " 'Condition2': str,\n",
       " 'BldgType': str,\n",
       " 'HouseStyle': str,\n",
       " 'OverallQual': int,\n",
       " 'OverallCond': int,\n",
       " 'YearBuilt': int,\n",
       " 'YearRemodAdd': int,\n",
       " 'RoofStyle': str,\n",
       " 'RoofMatl': str,\n",
       " 'Exterior1st': str,\n",
       " 'Exterior2nd': str,\n",
       " 'ExterQual': str,\n",
       " 'ExterCond': str,\n",
       " 'Foundation': str,\n",
       " 'BsmtQual': str,\n",
       " 'BsmtCond': str,\n",
       " 'BsmtExposure': str,\n",
       " 'BsmtFinType1': str,\n",
       " 'BsmtFinSF1': int,\n",
       " 'BsmtFinType2': str,\n",
       " 'BsmtFinSF2': int,\n",
       " 'BsmtUnfSF': int,\n",
       " 'TotalBsmtSF': int,\n",
       " 'Heating': str,\n",
       " 'HeatingQC': str,\n",
       " 'CentralAir': str,\n",
       " 'Electrical': str,\n",
       " 'FstFlrSF': int,\n",
       " 'SecndFlrSF': int,\n",
       " 'LowQualFinSF': int,\n",
       " 'GrLivArea': int,\n",
       " 'BsmtFullBath': int,\n",
       " 'BsmtHalfBath': int,\n",
       " 'FullBath': int,\n",
       " 'HalfBath': int,\n",
       " 'BedroomAbvGr': int,\n",
       " 'KitchenAbvGr': int,\n",
       " 'KitchenQual': str,\n",
       " 'TotRmsAbvGrd': int,\n",
       " 'Functional': str,\n",
       " 'Fireplaces': int,\n",
       " 'GarageType': str,\n",
       " 'GarageYrBlt': float,\n",
       " 'GarageFinish': str,\n",
       " 'GarageCars': int,\n",
       " 'GarageArea': int,\n",
       " 'GarageQual': str,\n",
       " 'GarageCond': str,\n",
       " 'PavedDrive': str,\n",
       " 'WoodDeckSF': int,\n",
       " 'OpenPorchSF': int,\n",
       " 'EnclosedPorch': int,\n",
       " 'ThreeSsnPorch': int,\n",
       " 'ScreenPorch': int,\n",
       " 'PoolArea': int,\n",
       " 'MiscVal': int,\n",
       " 'MoSold': int,\n",
       " 'YrSold': int,\n",
       " 'SaleType': str,\n",
       " 'SaleCondition': str}"
      ]
     },
     "metadata": {},
     "execution_count": 8
    }
   ],
   "metadata": {}
  },
  {
   "cell_type": "code",
   "execution_count": 15,
   "source": [
    "record"
   ],
   "outputs": [
    {
     "output_type": "execute_result",
     "data": {
      "text/plain": [
       "  MSSubClass MSZoning LotFrontage LotArea Street Alley LotShape LandContour  \\\n",
       "0         60       RL        65.0    8450   Pave            Reg         Lvl   \n",
       "\n",
       "  Utilities LotConfig  ... ScreenPorch PoolArea PoolQC Fence MiscFeature  \\\n",
       "0    AllPub    Inside  ...           0        0                            \n",
       "\n",
       "  MiscVal MoSold YrSold SaleType SaleCondition  \n",
       "0       0      2   2008       WD        Normal  \n",
       "\n",
       "[1 rows x 79 columns]"
      ],
      "text/html": [
       "<div>\n",
       "<style scoped>\n",
       "    .dataframe tbody tr th:only-of-type {\n",
       "        vertical-align: middle;\n",
       "    }\n",
       "\n",
       "    .dataframe tbody tr th {\n",
       "        vertical-align: top;\n",
       "    }\n",
       "\n",
       "    .dataframe thead th {\n",
       "        text-align: right;\n",
       "    }\n",
       "</style>\n",
       "<table border=\"1\" class=\"dataframe\">\n",
       "  <thead>\n",
       "    <tr style=\"text-align: right;\">\n",
       "      <th></th>\n",
       "      <th>MSSubClass</th>\n",
       "      <th>MSZoning</th>\n",
       "      <th>LotFrontage</th>\n",
       "      <th>LotArea</th>\n",
       "      <th>Street</th>\n",
       "      <th>Alley</th>\n",
       "      <th>LotShape</th>\n",
       "      <th>LandContour</th>\n",
       "      <th>Utilities</th>\n",
       "      <th>LotConfig</th>\n",
       "      <th>...</th>\n",
       "      <th>ScreenPorch</th>\n",
       "      <th>PoolArea</th>\n",
       "      <th>PoolQC</th>\n",
       "      <th>Fence</th>\n",
       "      <th>MiscFeature</th>\n",
       "      <th>MiscVal</th>\n",
       "      <th>MoSold</th>\n",
       "      <th>YrSold</th>\n",
       "      <th>SaleType</th>\n",
       "      <th>SaleCondition</th>\n",
       "    </tr>\n",
       "  </thead>\n",
       "  <tbody>\n",
       "    <tr>\n",
       "      <th>0</th>\n",
       "      <td>60</td>\n",
       "      <td>RL</td>\n",
       "      <td>65.0</td>\n",
       "      <td>8450</td>\n",
       "      <td>Pave</td>\n",
       "      <td></td>\n",
       "      <td>Reg</td>\n",
       "      <td>Lvl</td>\n",
       "      <td>AllPub</td>\n",
       "      <td>Inside</td>\n",
       "      <td>...</td>\n",
       "      <td>0</td>\n",
       "      <td>0</td>\n",
       "      <td></td>\n",
       "      <td></td>\n",
       "      <td></td>\n",
       "      <td>0</td>\n",
       "      <td>2</td>\n",
       "      <td>2008</td>\n",
       "      <td>WD</td>\n",
       "      <td>Normal</td>\n",
       "    </tr>\n",
       "  </tbody>\n",
       "</table>\n",
       "<p>1 rows × 79 columns</p>\n",
       "</div>"
      ]
     },
     "metadata": {},
     "execution_count": 15
    }
   ],
   "metadata": {}
  },
  {
   "cell_type": "code",
   "execution_count": 63,
   "source": [
    "with open('data/for_stream.csv','rb') as f:\n",
    "    line=f.readline()\n",
    "    "
   ],
   "outputs": [],
   "metadata": {}
  },
  {
   "cell_type": "code",
   "execution_count": 7,
   "source": [
    "record.shape"
   ],
   "outputs": [
    {
     "output_type": "execute_result",
     "data": {
      "text/plain": [
       "(1, 79)"
      ]
     },
     "metadata": {},
     "execution_count": 7
    }
   ],
   "metadata": {}
  },
  {
   "cell_type": "code",
   "execution_count": 16,
   "source": [
    "x=preprocess_data(record)"
   ],
   "outputs": [],
   "metadata": {}
  },
  {
   "cell_type": "code",
   "execution_count": 25,
   "source": [
    "x.select_dtypes(include='O')"
   ],
   "outputs": [
    {
     "output_type": "execute_result",
     "data": {
      "text/plain": [
       "  MSSubClass LotFrontage LotArea Alley OverallQual OverallCond YearBuilt  \\\n",
       "0         60        65.0    8450                 7           5      2003   \n",
       "\n",
       "  YearRemodAdd MasVnrType MasVnrArea  ... EnclosedPorch 3SsnPorch ScreenPorch  \\\n",
       "0         2003    BrkFace      196.0  ...             0         0           0   \n",
       "\n",
       "  PoolArea PoolQC Fence MiscFeature MiscVal MoSold YrSold  \n",
       "0        0                                0      2   2008  \n",
       "\n",
       "[1 rows x 42 columns]"
      ],
      "text/html": [
       "<div>\n",
       "<style scoped>\n",
       "    .dataframe tbody tr th:only-of-type {\n",
       "        vertical-align: middle;\n",
       "    }\n",
       "\n",
       "    .dataframe tbody tr th {\n",
       "        vertical-align: top;\n",
       "    }\n",
       "\n",
       "    .dataframe thead th {\n",
       "        text-align: right;\n",
       "    }\n",
       "</style>\n",
       "<table border=\"1\" class=\"dataframe\">\n",
       "  <thead>\n",
       "    <tr style=\"text-align: right;\">\n",
       "      <th></th>\n",
       "      <th>MSSubClass</th>\n",
       "      <th>LotFrontage</th>\n",
       "      <th>LotArea</th>\n",
       "      <th>Alley</th>\n",
       "      <th>OverallQual</th>\n",
       "      <th>OverallCond</th>\n",
       "      <th>YearBuilt</th>\n",
       "      <th>YearRemodAdd</th>\n",
       "      <th>MasVnrType</th>\n",
       "      <th>MasVnrArea</th>\n",
       "      <th>...</th>\n",
       "      <th>EnclosedPorch</th>\n",
       "      <th>3SsnPorch</th>\n",
       "      <th>ScreenPorch</th>\n",
       "      <th>PoolArea</th>\n",
       "      <th>PoolQC</th>\n",
       "      <th>Fence</th>\n",
       "      <th>MiscFeature</th>\n",
       "      <th>MiscVal</th>\n",
       "      <th>MoSold</th>\n",
       "      <th>YrSold</th>\n",
       "    </tr>\n",
       "  </thead>\n",
       "  <tbody>\n",
       "    <tr>\n",
       "      <th>0</th>\n",
       "      <td>60</td>\n",
       "      <td>65.0</td>\n",
       "      <td>8450</td>\n",
       "      <td></td>\n",
       "      <td>7</td>\n",
       "      <td>5</td>\n",
       "      <td>2003</td>\n",
       "      <td>2003</td>\n",
       "      <td>BrkFace</td>\n",
       "      <td>196.0</td>\n",
       "      <td>...</td>\n",
       "      <td>0</td>\n",
       "      <td>0</td>\n",
       "      <td>0</td>\n",
       "      <td>0</td>\n",
       "      <td></td>\n",
       "      <td></td>\n",
       "      <td></td>\n",
       "      <td>0</td>\n",
       "      <td>2</td>\n",
       "      <td>2008</td>\n",
       "    </tr>\n",
       "  </tbody>\n",
       "</table>\n",
       "<p>1 rows × 42 columns</p>\n",
       "</div>"
      ]
     },
     "metadata": {},
     "execution_count": 25
    }
   ],
   "metadata": {}
  },
  {
   "cell_type": "code",
   "execution_count": 29,
   "source": [
    "x.select_dtypes('object')"
   ],
   "outputs": [
    {
     "output_type": "execute_result",
     "data": {
      "text/plain": [
       "  MSSubClass LotFrontage LotArea Alley OverallQual OverallCond YearBuilt  \\\n",
       "0         60        65.0    8450                 7           5      2003   \n",
       "\n",
       "  YearRemodAdd MasVnrType MasVnrArea  ... EnclosedPorch 3SsnPorch ScreenPorch  \\\n",
       "0         2003    BrkFace      196.0  ...             0         0           0   \n",
       "\n",
       "  PoolArea PoolQC Fence MiscFeature MiscVal MoSold YrSold  \n",
       "0        0                                0      2   2008  \n",
       "\n",
       "[1 rows x 42 columns]"
      ],
      "text/html": [
       "<div>\n",
       "<style scoped>\n",
       "    .dataframe tbody tr th:only-of-type {\n",
       "        vertical-align: middle;\n",
       "    }\n",
       "\n",
       "    .dataframe tbody tr th {\n",
       "        vertical-align: top;\n",
       "    }\n",
       "\n",
       "    .dataframe thead th {\n",
       "        text-align: right;\n",
       "    }\n",
       "</style>\n",
       "<table border=\"1\" class=\"dataframe\">\n",
       "  <thead>\n",
       "    <tr style=\"text-align: right;\">\n",
       "      <th></th>\n",
       "      <th>MSSubClass</th>\n",
       "      <th>LotFrontage</th>\n",
       "      <th>LotArea</th>\n",
       "      <th>Alley</th>\n",
       "      <th>OverallQual</th>\n",
       "      <th>OverallCond</th>\n",
       "      <th>YearBuilt</th>\n",
       "      <th>YearRemodAdd</th>\n",
       "      <th>MasVnrType</th>\n",
       "      <th>MasVnrArea</th>\n",
       "      <th>...</th>\n",
       "      <th>EnclosedPorch</th>\n",
       "      <th>3SsnPorch</th>\n",
       "      <th>ScreenPorch</th>\n",
       "      <th>PoolArea</th>\n",
       "      <th>PoolQC</th>\n",
       "      <th>Fence</th>\n",
       "      <th>MiscFeature</th>\n",
       "      <th>MiscVal</th>\n",
       "      <th>MoSold</th>\n",
       "      <th>YrSold</th>\n",
       "    </tr>\n",
       "  </thead>\n",
       "  <tbody>\n",
       "    <tr>\n",
       "      <th>0</th>\n",
       "      <td>60</td>\n",
       "      <td>65.0</td>\n",
       "      <td>8450</td>\n",
       "      <td></td>\n",
       "      <td>7</td>\n",
       "      <td>5</td>\n",
       "      <td>2003</td>\n",
       "      <td>2003</td>\n",
       "      <td>BrkFace</td>\n",
       "      <td>196.0</td>\n",
       "      <td>...</td>\n",
       "      <td>0</td>\n",
       "      <td>0</td>\n",
       "      <td>0</td>\n",
       "      <td>0</td>\n",
       "      <td></td>\n",
       "      <td></td>\n",
       "      <td></td>\n",
       "      <td>0</td>\n",
       "      <td>2</td>\n",
       "      <td>2008</td>\n",
       "    </tr>\n",
       "  </tbody>\n",
       "</table>\n",
       "<p>1 rows × 42 columns</p>\n",
       "</div>"
      ]
     },
     "metadata": {},
     "execution_count": 29
    }
   ],
   "metadata": {}
  },
  {
   "cell_type": "code",
   "execution_count": 18,
   "source": [
    "model=load_predictor()"
   ],
   "outputs": [],
   "metadata": {}
  },
  {
   "cell_type": "code",
   "execution_count": 4,
   "source": [
    "record='20,RL,70.04995836802665,11500,Pave,IR1,Lvl,AllPub,CulDSac,Gtl,Edwards,Norm,Norm,1Fam,1Story,4,3,1957,1957,Gable,CompShg,Wd Sdng,Wd Sdng,TA,Gd,Slab,NA,TA,NA,NA,0,NA,0,0,0,GasA,Ex,N,SBrkr,845,0,0,845,0,0,1,0,3,1,TA,5,Typ,0,NA,1957.0,NA,1,290,NA,NA,N,186,0,0,0,0,0,0,1,2009,WD,Normal'"
   ],
   "outputs": [],
   "metadata": {}
  },
  {
   "cell_type": "code",
   "execution_count": 1,
   "source": [
    "from utils import loaddtypes,loadcolumns\n",
    "from preprocessor import load_encoder"
   ],
   "outputs": [],
   "metadata": {}
  },
  {
   "cell_type": "code",
   "execution_count": 6,
   "source": [
    "import pandas as pd\n",
    "import numpy as np"
   ],
   "outputs": [],
   "metadata": {}
  },
  {
   "cell_type": "code",
   "execution_count": 11,
   "source": [
    "def preprocess_data(record):\n",
    "    print(record)\n",
    "    print(type(record))\n",
    "    encoder=load_encoder()\n",
    "    record=pd.DataFrame(np.array(str(record).split(',')).reshape(1,-1),columns=loadcolumns())\n",
    "    record=record.astype(dtype=loaddtypes(),copy=True)\n",
    "    record=encoder.transform(record)\n",
    "    print(record)\n",
    "    #return record"
   ],
   "outputs": [],
   "metadata": {}
  },
  {
   "cell_type": "code",
   "execution_count": 12,
   "source": [
    "preprocess_data(record)"
   ],
   "outputs": [
    {
     "output_type": "stream",
     "name": "stdout",
     "text": [
      "20,RL,70.04995836802665,11500,Pave,IR1,Lvl,AllPub,CulDSac,Gtl,Edwards,Norm,Norm,1Fam,1Story,4,3,1957,1957,Gable,CompShg,Wd Sdng,Wd Sdng,TA,Gd,Slab,NA,TA,NA,NA,0,NA,0,0,0,GasA,Ex,N,SBrkr,845,0,0,845,0,0,1,0,3,1,TA,5,Typ,0,NA,1957.0,NA,1,290,NA,NA,N,186,0,0,0,0,0,0,1,2009,WD,Normal\n",
      "<class 'str'>\n",
      "   MSSubClass  MSZoning  LotFrontage  LotArea  Street  LotShape  LandContour  \\\n",
      "0          20         5    70.049958    11500       1         1            0   \n",
      "\n",
      "   Utilities  LandSlope  Condition1  ...  Neighborhood_NridgHt  \\\n",
      "0          0          0           2  ...                     0   \n",
      "\n",
      "   Neighborhood_NWAmes  Neighborhood_OldTown  Neighborhood_SWISU  \\\n",
      "0                    0                     0                   0   \n",
      "\n",
      "   Neighborhood_Sawyer  Neighborhood_SawyerW  Neighborhood_Somerst  \\\n",
      "0                    0                     0                     0   \n",
      "\n",
      "   Neighborhood_StoneBr  Neighborhood_Timber  Neighborhood_Veenker  \n",
      "0                     0                    0                     0  \n",
      "\n",
      "[1 rows x 98 columns]\n"
     ]
    }
   ],
   "metadata": {}
  },
  {
   "cell_type": "code",
   "execution_count": 13,
   "source": [
    "loaddtypes()"
   ],
   "outputs": [
    {
     "output_type": "execute_result",
     "data": {
      "text/plain": [
       "{'MSSubClass': int,\n",
       " 'MSZoning': str,\n",
       " 'LotFrontage': float,\n",
       " 'LotArea': int,\n",
       " 'Street': str,\n",
       " 'LotShape': str,\n",
       " 'LandContour': str,\n",
       " 'Utilities': str,\n",
       " 'LotConfig': str,\n",
       " 'LandSlope': str,\n",
       " 'Neighborhood': str,\n",
       " 'Condition1': str,\n",
       " 'Condition2': str,\n",
       " 'BldgType': str,\n",
       " 'HouseStyle': str,\n",
       " 'OverallQual': int,\n",
       " 'OverallCond': int,\n",
       " 'YearBuilt': int,\n",
       " 'YearRemodAdd': int,\n",
       " 'RoofStyle': str,\n",
       " 'RoofMatl': str,\n",
       " 'Exterior1st': str,\n",
       " 'Exterior2nd': str,\n",
       " 'ExterQual': str,\n",
       " 'ExterCond': str,\n",
       " 'Foundation': str,\n",
       " 'BsmtQual': str,\n",
       " 'BsmtCond': str,\n",
       " 'BsmtExposure': str,\n",
       " 'BsmtFinType1': str,\n",
       " 'BsmtFinSF1': int,\n",
       " 'BsmtFinType2': str,\n",
       " 'BsmtFinSF2': int,\n",
       " 'BsmtUnfSF': int,\n",
       " 'TotalBsmtSF': int,\n",
       " 'Heating': str,\n",
       " 'HeatingQC': str,\n",
       " 'CentralAir': str,\n",
       " 'Electrical': str,\n",
       " 'FstFlrSF': int,\n",
       " 'SecndFlrSF': int,\n",
       " 'LowQualFinSF': int,\n",
       " 'GrLivArea': int,\n",
       " 'BsmtFullBath': int,\n",
       " 'BsmtHalfBath': int,\n",
       " 'FullBath': int,\n",
       " 'HalfBath': int,\n",
       " 'BedroomAbvGr': int,\n",
       " 'KitchenAbvGr': int,\n",
       " 'KitchenQual': str,\n",
       " 'TotRmsAbvGrd': int,\n",
       " 'Functional': str,\n",
       " 'Fireplaces': int,\n",
       " 'GarageType': str,\n",
       " 'GarageYrBlt': float,\n",
       " 'GarageFinish': str,\n",
       " 'GarageCars': int,\n",
       " 'GarageArea': int,\n",
       " 'GarageQual': str,\n",
       " 'GarageCond': str,\n",
       " 'PavedDrive': str,\n",
       " 'WoodDeckSF': int,\n",
       " 'OpenPorchSF': int,\n",
       " 'EnclosedPorch': int,\n",
       " 'ThreeSsnPorch': int,\n",
       " 'ScreenPorch': int,\n",
       " 'PoolArea': int,\n",
       " 'MiscVal': int,\n",
       " 'MoSold': int,\n",
       " 'YrSold': int,\n",
       " 'SaleType': str,\n",
       " 'SaleCondition': str}"
      ]
     },
     "metadata": {},
     "execution_count": 13
    }
   ],
   "metadata": {}
  },
  {
   "cell_type": "code",
   "execution_count": 15,
   "source": [
    "lstcolumns=loadcolumns()"
   ],
   "outputs": [],
   "metadata": {}
  },
  {
   "cell_type": "code",
   "execution_count": 17,
   "source": [
    "lstcolumns.append('SalePrice')"
   ],
   "outputs": [],
   "metadata": {}
  },
  {
   "cell_type": "code",
   "execution_count": 20,
   "source": [
    "import pickle"
   ],
   "outputs": [],
   "metadata": {}
  },
  {
   "cell_type": "code",
   "execution_count": 21,
   "source": [
    "pickle.dump(lstcolumns,open('columnswithtarget','wb'))"
   ],
   "outputs": [],
   "metadata": {}
  },
  {
   "cell_type": "code",
   "execution_count": 22,
   "source": [
    "lstdtypes=loaddtypes()"
   ],
   "outputs": [],
   "metadata": {}
  },
  {
   "cell_type": "code",
   "execution_count": 25,
   "source": [
    "lstdtypes['SalePrice']=float"
   ],
   "outputs": [],
   "metadata": {}
  },
  {
   "cell_type": "code",
   "execution_count": 26,
   "source": [
    "lstdtypes"
   ],
   "outputs": [
    {
     "output_type": "execute_result",
     "data": {
      "text/plain": [
       "{'MSSubClass': int,\n",
       " 'MSZoning': str,\n",
       " 'LotFrontage': float,\n",
       " 'LotArea': int,\n",
       " 'Street': str,\n",
       " 'LotShape': str,\n",
       " 'LandContour': str,\n",
       " 'Utilities': str,\n",
       " 'LotConfig': str,\n",
       " 'LandSlope': str,\n",
       " 'Neighborhood': str,\n",
       " 'Condition1': str,\n",
       " 'Condition2': str,\n",
       " 'BldgType': str,\n",
       " 'HouseStyle': str,\n",
       " 'OverallQual': int,\n",
       " 'OverallCond': int,\n",
       " 'YearBuilt': int,\n",
       " 'YearRemodAdd': int,\n",
       " 'RoofStyle': str,\n",
       " 'RoofMatl': str,\n",
       " 'Exterior1st': str,\n",
       " 'Exterior2nd': str,\n",
       " 'ExterQual': str,\n",
       " 'ExterCond': str,\n",
       " 'Foundation': str,\n",
       " 'BsmtQual': str,\n",
       " 'BsmtCond': str,\n",
       " 'BsmtExposure': str,\n",
       " 'BsmtFinType1': str,\n",
       " 'BsmtFinSF1': int,\n",
       " 'BsmtFinType2': str,\n",
       " 'BsmtFinSF2': int,\n",
       " 'BsmtUnfSF': int,\n",
       " 'TotalBsmtSF': int,\n",
       " 'Heating': str,\n",
       " 'HeatingQC': str,\n",
       " 'CentralAir': str,\n",
       " 'Electrical': str,\n",
       " 'FstFlrSF': int,\n",
       " 'SecndFlrSF': int,\n",
       " 'LowQualFinSF': int,\n",
       " 'GrLivArea': int,\n",
       " 'BsmtFullBath': int,\n",
       " 'BsmtHalfBath': int,\n",
       " 'FullBath': int,\n",
       " 'HalfBath': int,\n",
       " 'BedroomAbvGr': int,\n",
       " 'KitchenAbvGr': int,\n",
       " 'KitchenQual': str,\n",
       " 'TotRmsAbvGrd': int,\n",
       " 'Functional': str,\n",
       " 'Fireplaces': int,\n",
       " 'GarageType': str,\n",
       " 'GarageYrBlt': float,\n",
       " 'GarageFinish': str,\n",
       " 'GarageCars': int,\n",
       " 'GarageArea': int,\n",
       " 'GarageQual': str,\n",
       " 'GarageCond': str,\n",
       " 'PavedDrive': str,\n",
       " 'WoodDeckSF': int,\n",
       " 'OpenPorchSF': int,\n",
       " 'EnclosedPorch': int,\n",
       " 'ThreeSsnPorch': int,\n",
       " 'ScreenPorch': int,\n",
       " 'PoolArea': int,\n",
       " 'MiscVal': int,\n",
       " 'MoSold': int,\n",
       " 'YrSold': int,\n",
       " 'SaleType': str,\n",
       " 'SaleCondition': str,\n",
       " 'SalePrice': float}"
      ]
     },
     "metadata": {},
     "execution_count": 26
    }
   ],
   "metadata": {}
  },
  {
   "cell_type": "code",
   "execution_count": 27,
   "source": [
    "pickle.dump(lstdtypes,open('dtypemapperwithtarget','wb'))"
   ],
   "outputs": [],
   "metadata": {}
  },
  {
   "cell_type": "code",
   "execution_count": null,
   "source": [],
   "outputs": [],
   "metadata": {}
  }
 ],
 "metadata": {
  "orig_nbformat": 4,
  "language_info": {
   "name": "python",
   "version": "3.6.9",
   "mimetype": "text/x-python",
   "codemirror_mode": {
    "name": "ipython",
    "version": 3
   },
   "pygments_lexer": "ipython3",
   "nbconvert_exporter": "python",
   "file_extension": ".py"
  },
  "kernelspec": {
   "name": "python3",
   "display_name": "Python 3.6.9 64-bit ('hackathon2': venv)"
  },
  "interpreter": {
   "hash": "1e278b4316b2606d8c6bb1ea12452c2dc48e28f5239f6a61a8d47f58f655be54"
  }
 },
 "nbformat": 4,
 "nbformat_minor": 2
}