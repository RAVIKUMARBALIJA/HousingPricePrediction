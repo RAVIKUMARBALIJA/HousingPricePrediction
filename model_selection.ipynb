{
 "cells": [
  {
   "cell_type": "code",
   "execution_count": 1,
   "source": [
    "from sklearn.linear_model import LinearRegression,SGDRegressor\n",
    "from sklearn.tree import DecisionTreeRegressor\n",
    "from sklearn.ensemble import RandomForestRegressor,GradientBoostingRegressor,AdaBoostRegressor"
   ],
   "outputs": [],
   "metadata": {}
  },
  {
   "cell_type": "code",
   "execution_count": 2,
   "source": [
    "import  numpy as np\n",
    "import pandas as pd\n",
    "import warnings\n",
    "warnings.filterwarnings('ignore')\n",
    "import seaborn\n",
    "import matplotlib.pyplot as plt"
   ],
   "outputs": [],
   "metadata": {}
  },
  {
   "cell_type": "code",
   "execution_count": 4,
   "source": [
    "from sklearn.model_selection import GridSearchCV,RandomizedSearchCV\n",
    "from sklearn.neighbors import KNeighborsRegressor\n",
    "from sklearn.preprocessing import PolynomialFeatures"
   ],
   "outputs": [],
   "metadata": {}
  },
  {
   "cell_type": "code",
   "execution_count": 22,
   "source": [
    "from sklearn.metrics import mean_squared_error,r2_score,mean_absolute_error"
   ],
   "outputs": [],
   "metadata": {}
  },
  {
   "cell_type": "code",
   "execution_count": 10,
   "source": [
    "x_train=pd.read_csv('data/cleaned_train_set.csv')"
   ],
   "outputs": [],
   "metadata": {}
  },
  {
   "cell_type": "code",
   "execution_count": 14,
   "source": [
    "x_train.drop(columns=['Unnamed: 0'],inplace=True)"
   ],
   "outputs": [],
   "metadata": {}
  },
  {
   "cell_type": "code",
   "execution_count": 16,
   "source": [
    "x_train.isna().sum()"
   ],
   "outputs": [
    {
     "output_type": "execute_result",
     "data": {
      "text/plain": [
       "MSSubClass                0\n",
       "MSZoning                  0\n",
       "LotFrontage               0\n",
       "LotArea                   0\n",
       "Street                    0\n",
       "                       ... \n",
       "Neighborhood_Somerst      0\n",
       "Neighborhood_StoneBr      0\n",
       "Neighborhood_Timber       0\n",
       "Neighborhood_Veenker      0\n",
       "SalePrice               241\n",
       "Length: 99, dtype: int64"
      ]
     },
     "metadata": {},
     "execution_count": 16
    }
   ],
   "metadata": {}
  },
  {
   "cell_type": "code",
   "execution_count": 17,
   "source": [
    "x_train.dropna(inplace=True,axis=0)"
   ],
   "outputs": [],
   "metadata": {}
  },
  {
   "cell_type": "code",
   "execution_count": 18,
   "source": [
    "x_train.isna().sum()"
   ],
   "outputs": [
    {
     "output_type": "execute_result",
     "data": {
      "text/plain": [
       "MSSubClass              0\n",
       "MSZoning                0\n",
       "LotFrontage             0\n",
       "LotArea                 0\n",
       "Street                  0\n",
       "                       ..\n",
       "Neighborhood_Somerst    0\n",
       "Neighborhood_StoneBr    0\n",
       "Neighborhood_Timber     0\n",
       "Neighborhood_Veenker    0\n",
       "SalePrice               0\n",
       "Length: 99, dtype: int64"
      ]
     },
     "metadata": {},
     "execution_count": 18
    }
   ],
   "metadata": {}
  },
  {
   "cell_type": "code",
   "execution_count": 19,
   "source": [
    "x_feat=[col for col in x_train.columns if col not in ['SalePrice']]\n",
    "y_feat=['SalePrice']"
   ],
   "outputs": [],
   "metadata": {}
  },
  {
   "cell_type": "code",
   "execution_count": 20,
   "source": [
    "X_train=x_train[x_feat]\n",
    "y_train=x_train[y_feat]"
   ],
   "outputs": [],
   "metadata": {}
  },
  {
   "cell_type": "code",
   "execution_count": 21,
   "source": [
    "cleaned_test_set=pd.read_csv('data/cleaned_test_set.csv')\n",
    "cleaned_test_set.drop(columns=['Unnamed: 0'],inplace=True)\n",
    "cleaned_test_set.dropna(inplace=True,axis=0)\n",
    "X_test=cleaned_test_set[x_feat]\n",
    "y_test=cleaned_test_set[y_feat]"
   ],
   "outputs": [],
   "metadata": {}
  },
  {
   "cell_type": "code",
   "execution_count": 26,
   "source": [
    "def show_metrics(model,X,y,train=True):\n",
    "    y_predict=model.predict(X)\n",
    "    r2=r2_score(y,y_predict)\n",
    "    mse=mean_squared_error(y,y_predict)\n",
    "    rmse=np.sqrt(mse)\n",
    "    if train:\n",
    "        print(f'Model metrics for {model} on trainset')\n",
    "    else:\n",
    "        print(f'Model metrics for {model} on testset')\n",
    "    print('r2 score   :',r2)\n",
    "    print('mse        :',mse)\n",
    "    print('rmse       :',rmse)\n"
   ],
   "outputs": [],
   "metadata": {}
  },
  {
   "cell_type": "code",
   "execution_count": 28,
   "source": [
    "linear_reg=LinearRegression(fit_intercept=True)\n",
    "linear_reg.fit(X_train,y_train)\n",
    "show_metrics(linear_reg,X_train,y_train)\n",
    "show_metrics(linear_reg,X_test,y_test,False)"
   ],
   "outputs": [
    {
     "output_type": "stream",
     "name": "stdout",
     "text": [
      "Model metrics for LinearRegression() on trainset\n",
      "r2 score   : 0.11679622127291456\n",
      "mse        : 4849874972.593\n",
      "rmse       : 69641.0437356664\n",
      "Model metrics for LinearRegression() on testset\n",
      "r2 score   : 0.11679622127291456\n",
      "mse        : 4849874972.593\n",
      "rmse       : 69641.0437356664\n"
     ]
    }
   ],
   "metadata": {}
  },
  {
   "cell_type": "code",
   "execution_count": 30,
   "source": [
    "linear_reg.score(X_train,y_train)"
   ],
   "outputs": [
    {
     "output_type": "execute_result",
     "data": {
      "text/plain": [
       "0.11679622127291456"
      ]
     },
     "metadata": {},
     "execution_count": 30
    }
   ],
   "metadata": {}
  },
  {
   "cell_type": "code",
   "execution_count": 29,
   "source": [
    "sgd_reg=SGDRegressor()\n",
    "sgd_reg.fit(X_train,y_train)\n",
    "show_metrics(sgd_reg,X_train,y_train)\n",
    "show_metrics(sgd_reg,X_test,y_test,False)"
   ],
   "outputs": [
    {
     "output_type": "stream",
     "name": "stdout",
     "text": [
      "Model metrics for SGDRegressor() on trainset\n",
      "r2 score   : -1.0996043224405384e+24\n",
      "mse        : 6.03818010249632e+33\n",
      "rmse       : 7.770572760418835e+16\n",
      "Model metrics for SGDRegressor() on testset\n",
      "r2 score   : -1.0996043224405384e+24\n",
      "mse        : 6.03818010249632e+33\n",
      "rmse       : 7.770572760418835e+16\n"
     ]
    }
   ],
   "metadata": {}
  },
  {
   "cell_type": "code",
   "execution_count": 33,
   "source": [
    "dec_tree=DecisionTreeRegressor(max_depth=30)\n",
    "dec_tree.fit(X_train,y_train)\n",
    "show_metrics(dec_tree,X_train,y_train)\n",
    "show_metrics(dec_tree,X_test,y_test,False)"
   ],
   "outputs": [
    {
     "output_type": "stream",
     "name": "stdout",
     "text": [
      "Model metrics for DecisionTreeRegressor(max_depth=30) on trainset\n",
      "r2 score   : 0.9999645273298128\n",
      "mse        : 194788.58616283318\n",
      "rmse       : 441.34859936657006\n",
      "Model metrics for DecisionTreeRegressor(max_depth=30) on testset\n",
      "r2 score   : 0.9999645273298128\n",
      "mse        : 194788.58616283318\n",
      "rmse       : 441.34859936657006\n"
     ]
    }
   ],
   "metadata": {}
  },
  {
   "cell_type": "code",
   "execution_count": 36,
   "source": [
    "rnd_forest=RandomForestRegressor(n_estimators=100)\n",
    "rnd_forest.fit(X_train,y_train)\n",
    "show_metrics(rnd_forest,X_train,y_train)\n",
    "show_metrics(rnd_forest,X_test,y_test,False)"
   ],
   "outputs": [
    {
     "output_type": "stream",
     "name": "stdout",
     "text": [
      "Model metrics for RandomForestRegressor() on trainset\n",
      "r2 score   : 0.8418332089829474\n",
      "mse        : 868530207.5524576\n",
      "rmse       : 29470.83656010561\n",
      "Model metrics for RandomForestRegressor() on testset\n",
      "r2 score   : 0.8418332089829474\n",
      "mse        : 868530207.5524576\n",
      "rmse       : 29470.83656010561\n"
     ]
    }
   ],
   "metadata": {}
  },
  {
   "cell_type": "code",
   "execution_count": 38,
   "source": [
    "adaboost=AdaBoostRegressor(n_estimators=100)\n",
    "adaboost.fit(X_train,y_train)\n",
    "show_metrics(adaboost,X_train,y_train)\n",
    "show_metrics(adaboost,X_test,y_test,False)"
   ],
   "outputs": [
    {
     "output_type": "stream",
     "name": "stdout",
     "text": [
      "Model metrics for AdaBoostRegressor(n_estimators=100) on trainset\n",
      "r2 score   : 0.01745246419487667\n",
      "mse        : 5395394379.032287\n",
      "rmse       : 73453.34831736595\n",
      "Model metrics for AdaBoostRegressor(n_estimators=100) on testset\n",
      "r2 score   : 0.01745246419487667\n",
      "mse        : 5395394379.032287\n",
      "rmse       : 73453.34831736595\n"
     ]
    }
   ],
   "metadata": {}
  },
  {
   "cell_type": "code",
   "execution_count": 39,
   "source": [
    "gradient_boosted=GradientBoostingRegressor()\n",
    "gradient_boosted.fit(X_train,y_train)\n",
    "show_metrics(gradient_boosted,X_train,y_train)\n",
    "show_metrics(gradient_boosted,X_test,y_test,False)"
   ],
   "outputs": [
    {
     "output_type": "stream",
     "name": "stdout",
     "text": [
      "Model metrics for GradientBoostingRegressor() on trainset\n",
      "r2 score   : 0.47134714349077966\n",
      "mse        : 2902954357.452002\n",
      "rmse       : 53879.07160903946\n",
      "Model metrics for GradientBoostingRegressor() on testset\n",
      "r2 score   : 0.47134714349077966\n",
      "mse        : 2902954357.452002\n",
      "rmse       : 53879.07160903946\n"
     ]
    }
   ],
   "metadata": {}
  },
  {
   "cell_type": "code",
   "execution_count": 40,
   "source": [
    "knn_reg=KNeighborsRegressor(n_neighbors=11)\n",
    "knn_reg.fit(X_train,y_train)\n",
    "show_metrics(knn_reg,X_train,y_train)\n",
    "show_metrics(knn_reg,X_test,y_test,False)"
   ],
   "outputs": [
    {
     "output_type": "stream",
     "name": "stdout",
     "text": [
      "Model metrics for KNeighborsRegressor(n_neighbors=11) on trainset\n",
      "r2 score   : 0.10538313342374861\n",
      "mse        : 4912546861.519303\n",
      "rmse       : 70089.56314259137\n",
      "Model metrics for KNeighborsRegressor(n_neighbors=11) on testset\n",
      "r2 score   : 0.10538313342374861\n",
      "mse        : 4912546861.519303\n",
      "rmse       : 70089.56314259137\n"
     ]
    }
   ],
   "metadata": {}
  },
  {
   "cell_type": "code",
   "execution_count": null,
   "source": [],
   "outputs": [],
   "metadata": {}
  }
 ],
 "metadata": {
  "orig_nbformat": 4,
  "language_info": {
   "name": "python",
   "version": "3.6.9",
   "mimetype": "text/x-python",
   "codemirror_mode": {
    "name": "ipython",
    "version": 3
   },
   "pygments_lexer": "ipython3",
   "nbconvert_exporter": "python",
   "file_extension": ".py"
  },
  "kernelspec": {
   "name": "python3",
   "display_name": "Python 3.6.9 64-bit"
  },
  "interpreter": {
   "hash": "31f2aee4e71d21fbe5cf8b01ff0e069b9275f58929596ceb00d14d90e3e16cd6"
  }
 },
 "nbformat": 4,
 "nbformat_minor": 2
}